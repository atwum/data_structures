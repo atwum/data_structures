{
 "cells": [
  {
   "cell_type": "markdown",
   "metadata": {},
   "source": [
    "# Data structures \n",
    "Data structures are used to store organize and manage data. \n",
    "\n",
    "Types of Data Structures:\n",
    "\n",
    "* Built-in Data Structures\n",
    "    * List\n",
    "    * Dictionary\n",
    "    * Tuple\n",
    "    * Sets\n",
    "\n",
    "* User-Defined Data Structures\n",
    "    * Stack \n",
    "    * Queue\n",
    "    * Tree\n",
    "    * LinkedList\n",
    "    * Graph\n",
    "    * HashMap"
   ]
  },
  {
   "cell_type": "markdown",
   "metadata": {},
   "source": [
    "### LISTS\n",
    "* Lists can contain different data types and are used to store data ins sequential manner. They are muttable so can be changed."
   ]
  },
  {
   "cell_type": "code",
   "execution_count": 24,
   "metadata": {},
   "outputs": [
    {
     "name": "stdout",
     "output_type": "stream",
     "text": [
      "[1, 2, 3, 'xyz', 'hi']\n"
     ]
    }
   ],
   "source": [
    "#create a list\n",
    "list1 = [1,2,3,'xyz','hi']\n",
    "print(list1)"
   ]
  },
  {
   "cell_type": "markdown",
   "metadata": {},
   "source": [
    "To add data elements in to the list you can use the following functions;\n",
    "```python\n",
    "append() extend() and insert()\n",
    "```"
   ]
  },
  {
   "cell_type": "markdown",
   "metadata": {},
   "source": [
    "### Adding elements using append( ), extend( ) and insert( )"
   ]
  },
  {
   "cell_type": "code",
   "execution_count": 25,
   "metadata": {},
   "outputs": [
    {
     "name": "stdout",
     "output_type": "stream",
     "text": [
      "[1, 2, 3, 'xyz', 'hi', 20]\n"
     ]
    }
   ],
   "source": [
    "list1.append(20) #add 20 to list\n",
    "print(list1)"
   ]
  },
  {
   "cell_type": "code",
   "execution_count": 26,
   "metadata": {},
   "outputs": [
    {
     "name": "stdout",
     "output_type": "stream",
     "text": [
      "[1, 2, 3, 'xyz', 'hi', 20, (10, 11)]\n",
      "new elements (10,11) are added as a tuple\n"
     ]
    }
   ],
   "source": [
    "list1.append((10,11)) #add two elements to list\n",
    "print(list1) \n",
    "print ('new elements (10,11) are added as a tuple')"
   ]
  },
  {
   "cell_type": "code",
   "execution_count": 27,
   "metadata": {},
   "outputs": [
    {
     "name": "stdout",
     "output_type": "stream",
     "text": [
      "[1, 2, 3, 'xyz', 'hi', 20, (10, 11), 10, 11]\n"
     ]
    }
   ],
   "source": [
    "list1.extend((10,11)) #add two elements to list\n",
    "print(list1) \n",
    "# print ('new elements (10,11) are added as a elements not tuple')"
   ]
  },
  {
   "cell_type": "code",
   "execution_count": 28,
   "metadata": {},
   "outputs": [
    {
     "name": "stdout",
     "output_type": "stream",
     "text": [
      "[1, 2, 'insert me here', 3, 'xyz', 'hi', 20, (10, 11), 10, 11]\n"
     ]
    }
   ],
   "source": [
    "list1.insert(2,'insert me here') #insert new element to list\n",
    "print(list1) \n",
    "# print ('identify the index and insert element next')"
   ]
  },
  {
   "cell_type": "code",
   "execution_count": 29,
   "metadata": {},
   "outputs": [
    {
     "name": "stdout",
     "output_type": "stream",
     "text": [
      "[1, 2, 'insert me here', 3, 'xyz', 'hi', 20, (10, 11), 'insert me here', 10, 11]\n"
     ]
    }
   ],
   "source": [
    "list1.insert(-2,'insert me here') #insert new element to list \n",
    "print(list1) \n",
    "# print ('identify the index and insert element next')"
   ]
  },
  {
   "cell_type": "markdown",
   "metadata": {},
   "source": [
    "### Removing elements using del( ), pop( ) and remove( ) \n",
    "\n",
    "The functions\n",
    "```python\n",
    "del(), pop() and  remove()\n",
    "```\n",
    "allow you to remove elements from the list by identifying their index values or the specific elements themselves. you are also able to save them as a variable while removing them from the list as well. "
   ]
  },
  {
   "cell_type": "code",
   "execution_count": 31,
   "metadata": {},
   "outputs": [
    {
     "name": "stdout",
     "output_type": "stream",
     "text": [
      "[1, 2, 3, 'xyz', 'hi', 20, (10, 11), 'insert me here', 10, 11]\n"
     ]
    }
   ],
   "source": [
    "del list1[2]# delete element identified by the index 2\n",
    "print (list1)"
   ]
  },
  {
   "cell_type": "code",
   "execution_count": 34,
   "metadata": {},
   "outputs": [
    {
     "name": "stdout",
     "output_type": "stream",
     "text": [
      "20\n",
      "[1, 2, 3, 'xyz', (10, 11), 'insert me here', 10, 11]\n"
     ]
    }
   ],
   "source": [
    "a = list1.pop(4) #assigns a the value of element \n",
    "# and susequently removes it from list\n",
    "\n",
    "print(a) ; print( list1)"
   ]
  },
  {
   "cell_type": "code",
   "execution_count": 38,
   "metadata": {},
   "outputs": [
    {
     "name": "stdout",
     "output_type": "stream",
     "text": [
      "[1, 3, 'xyz', 'insert me here', 10, 11]\n"
     ]
    }
   ],
   "source": [
    "list1.remove(2) #find and removes the element itself  \n",
    "list1.remove((10,11))\n",
    "print (list1)"
   ]
  },
  {
   "cell_type": "markdown",
   "metadata": {},
   "source": [
    "### Accessing elements\n",
    "when accessing specific elements you can give a range using \n",
    "```python\n",
    "[ from_index : to_index :skip_index]\n",
    "\n",
    "```\n",
    "Not specififying values [ : ]means you want the range beginning from very first element and/or to very last element.\n",
    "\n",
    "if you have a list \n",
    "```python\n",
    "list = [ a, b, c, d, e, f]\n",
    "index = [0, 1, 2, 3, 4, 5]\n",
    "r_index = [-6, -5, -4, -3, -2, -1] #in reverse\n",
    "```\n"
   ]
  },
  {
   "cell_type": "code",
   "execution_count": 39,
   "metadata": {},
   "outputs": [
    {
     "name": "stdout",
     "output_type": "stream",
     "text": [
      "[1, 3, 'xyz', 'insert me here', 10, 11]\n"
     ]
    }
   ],
   "source": [
    "print (list1)"
   ]
  },
  {
   "cell_type": "code",
   "execution_count": 42,
   "metadata": {},
   "outputs": [
    {
     "name": "stdout",
     "output_type": "stream",
     "text": [
      "[1, 3, 'xyz', 'insert me here']\n",
      "[1, 'xyz']\n",
      "[1, 3, 'xyz', 'insert me here', 10, 11]\n",
      "[11, 'xyz']\n"
     ]
    }
   ],
   "source": [
    "print (list1[0:4]) \n",
    "print (list1[0:4:2])\n",
    "print (list1[::])\n",
    "print (list1[::-3])\n"
   ]
  },
  {
   "cell_type": "code",
   "execution_count": 47,
   "metadata": {},
   "outputs": [
    {
     "name": "stdout",
     "output_type": "stream",
     "text": [
      "[1, 3, 'xyz', 'insert me here']\n",
      "[1, 'xyz']\n",
      "[1, 3, 'xyz', 'insert me here', 10, 11]\n",
      "[11, 'xyz']\n"
     ]
    }
   ],
   "source": [
    "print (list1[-6:-2]) \n",
    "print (list1[-6:4:2])\n",
    "print (list1[::])\n",
    "print (list1[::-3])"
   ]
  },
  {
   "cell_type": "code",
   "execution_count": null,
   "metadata": {},
   "outputs": [],
   "source": []
  }
 ],
 "metadata": {
  "kernelspec": {
   "display_name": "Python 3",
   "language": "python",
   "name": "python3"
  },
  "language_info": {
   "codemirror_mode": {
    "name": "ipython",
    "version": 3
   },
   "file_extension": ".py",
   "mimetype": "text/x-python",
   "name": "python",
   "nbconvert_exporter": "python",
   "pygments_lexer": "ipython3",
   "version": "3.7.6"
  }
 },
 "nbformat": 4,
 "nbformat_minor": 4
}
