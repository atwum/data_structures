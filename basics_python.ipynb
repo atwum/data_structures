{
 "cells": [
  {
   "cell_type": "markdown",
   "metadata": {},
   "source": [
    "# Data structures \n",
    "Data structures are used to store organize and manage data. \n",
    "\n",
    "Types of Data Structures:\n",
    "\n",
    "* Built-in Data Structures\n",
    "    * List\n",
    "    * Dictionary\n",
    "    * Tuple\n",
    "    * Sets\n",
    "\n",
    "* User-Defined Data Structures\n",
    "    * Stack \n",
    "    * Queue\n",
    "    * Tree\n",
    "    * LinkedList\n",
    "    * Graph\n",
    "    * HashMap\n",
    "    \n",
    " https://www.youtube.com/watch?v=m9n2f9lhtrw"
   ]
  },
  {
   "cell_type": "markdown",
   "metadata": {},
   "source": [
    "### LISTS\n",
    "* Lists can contain different data types and are used to store data ins sequential manner. They are muttable so can be changed."
   ]
  },
  {
   "cell_type": "code",
   "execution_count": 24,
   "metadata": {},
   "outputs": [
    {
     "name": "stdout",
     "output_type": "stream",
     "text": [
      "[1, 2, 3, 'xyz', 'hi']\n"
     ]
    }
   ],
   "source": [
    "#create a list\n",
    "list1 = [1,2,3,'xyz','hi']\n",
    "print(list1)"
   ]
  },
  {
   "cell_type": "markdown",
   "metadata": {},
   "source": [
    "To add data elements in to the list you can use the following functions;\n",
    "```python\n",
    "append() extend() and insert()\n",
    "```"
   ]
  },
  {
   "cell_type": "markdown",
   "metadata": {},
   "source": [
    "### Adding elements using append( ), extend( ) and insert( )"
   ]
  },
  {
   "cell_type": "code",
   "execution_count": 25,
   "metadata": {},
   "outputs": [
    {
     "name": "stdout",
     "output_type": "stream",
     "text": [
      "[1, 2, 3, 'xyz', 'hi', 20]\n"
     ]
    }
   ],
   "source": [
    "list1.append(20) #add 20 to list\n",
    "print(list1)"
   ]
  },
  {
   "cell_type": "code",
   "execution_count": 26,
   "metadata": {},
   "outputs": [
    {
     "name": "stdout",
     "output_type": "stream",
     "text": [
      "[1, 2, 3, 'xyz', 'hi', 20, (10, 11)]\n",
      "new elements (10,11) are added as a tuple\n"
     ]
    }
   ],
   "source": [
    "list1.append((10,11)) #add two elements to list\n",
    "print(list1) \n",
    "print ('new elements (10,11) are added as a tuple')"
   ]
  },
  {
   "cell_type": "code",
   "execution_count": 27,
   "metadata": {},
   "outputs": [
    {
     "name": "stdout",
     "output_type": "stream",
     "text": [
      "[1, 2, 3, 'xyz', 'hi', 20, (10, 11), 10, 11]\n"
     ]
    }
   ],
   "source": [
    "list1.extend((10,11)) #add two elements to list\n",
    "print(list1) \n",
    "# print ('new elements (10,11) are added as a elements not tuple')"
   ]
  },
  {
   "cell_type": "code",
   "execution_count": 28,
   "metadata": {},
   "outputs": [
    {
     "name": "stdout",
     "output_type": "stream",
     "text": [
      "[1, 2, 'insert me here', 3, 'xyz', 'hi', 20, (10, 11), 10, 11]\n"
     ]
    }
   ],
   "source": [
    "list1.insert(2,'insert me here') #insert new element to list\n",
    "print(list1) \n",
    "# print ('identify the index and insert element next')"
   ]
  },
  {
   "cell_type": "code",
   "execution_count": 29,
   "metadata": {},
   "outputs": [
    {
     "name": "stdout",
     "output_type": "stream",
     "text": [
      "[1, 2, 'insert me here', 3, 'xyz', 'hi', 20, (10, 11), 'insert me here', 10, 11]\n"
     ]
    }
   ],
   "source": [
    "list1.insert(-2,'insert me here') #insert new element to list \n",
    "print(list1) \n",
    "# print ('identify the index and insert element next')"
   ]
  },
  {
   "cell_type": "markdown",
   "metadata": {},
   "source": [
    "### Removing elements using del( ), pop( ) and remove( ) \n",
    "\n",
    "The functions\n",
    "```python\n",
    "del(), .pop() and  .remove()\n",
    "```\n",
    "allow you to remove elements from the list by identifying their index values or the specific elements themselves. you are also able to save them as a variable while removing them from the list as well. "
   ]
  },
  {
   "cell_type": "code",
   "execution_count": 31,
   "metadata": {},
   "outputs": [
    {
     "name": "stdout",
     "output_type": "stream",
     "text": [
      "[1, 2, 3, 'xyz', 'hi', 20, (10, 11), 'insert me here', 10, 11]\n"
     ]
    }
   ],
   "source": [
    "del list1[2]# delete element identified by the index 2\n",
    "print (list1)"
   ]
  },
  {
   "cell_type": "code",
   "execution_count": 34,
   "metadata": {},
   "outputs": [
    {
     "name": "stdout",
     "output_type": "stream",
     "text": [
      "20\n",
      "[1, 2, 3, 'xyz', (10, 11), 'insert me here', 10, 11]\n"
     ]
    }
   ],
   "source": [
    "a = list1.pop(4) #assigns a the value of element \n",
    "# and susequently removes it from list\n",
    "\n",
    "print(a) ; print( list1)"
   ]
  },
  {
   "cell_type": "code",
   "execution_count": 38,
   "metadata": {},
   "outputs": [
    {
     "name": "stdout",
     "output_type": "stream",
     "text": [
      "[1, 3, 'xyz', 'insert me here', 10, 11]\n"
     ]
    }
   ],
   "source": [
    "list1.remove(2) #find and removes the element itself  \n",
    "list1.remove((10,11))\n",
    "print (list1)"
   ]
  },
  {
   "cell_type": "markdown",
   "metadata": {},
   "source": [
    "### Accessing elements using indexing\n",
    "when accessing specific elements you can give a range using \n",
    "```python\n",
    "[ from_index : to_index :skip_index]\n",
    "\n",
    "```\n",
    "Not specififying values [ : ]means you want the range beginning from very first element and/or to very last element.\n",
    "\n",
    "if you have a list \n",
    "```python\n",
    "#        0, 1, 2, 3, 4, 5\n",
    "alist = [ a, b, c, d, e, f]\n",
    "#       -6,-5,-4,-3,-2,-1  index in reverse\n",
    "\n",
    "```\n",
    "you can also use `.index(element)` to know the index of a particluar element in the list. \n",
    "\n"
   ]
  },
  {
   "cell_type": "code",
   "execution_count": 78,
   "metadata": {},
   "outputs": [
    {
     "name": "stdout",
     "output_type": "stream",
     "text": [
      "[1, 3, 'xyz', 'insert me here', 10, 11]\n",
      "1 is the index of element 3\n",
      "2 is the index of element xyz\n"
     ]
    }
   ],
   "source": [
    "print (list1)\n",
    "print(list1.index(3), \"is the index of element 3\")\n",
    "print(list1.index('xyz'), \"is the index of element xyz\")"
   ]
  },
  {
   "cell_type": "code",
   "execution_count": 42,
   "metadata": {},
   "outputs": [
    {
     "name": "stdout",
     "output_type": "stream",
     "text": [
      "[1, 3, 'xyz', 'insert me here']\n",
      "[1, 'xyz']\n",
      "[1, 3, 'xyz', 'insert me here', 10, 11]\n",
      "[11, 'xyz']\n"
     ]
    }
   ],
   "source": [
    "print (list1[0:4]) \n",
    "print (list1[0:4:2])\n",
    "print (list1[::])\n",
    "print (list1[::-3])"
   ]
  },
  {
   "cell_type": "code",
   "execution_count": 47,
   "metadata": {},
   "outputs": [
    {
     "name": "stdout",
     "output_type": "stream",
     "text": [
      "[1, 3, 'xyz', 'insert me here']\n",
      "[1, 'xyz']\n",
      "[1, 3, 'xyz', 'insert me here', 10, 11]\n",
      "[11, 'xyz']\n"
     ]
    }
   ],
   "source": [
    "print (list1[-6:-2]) \n",
    "print (list1[-6:4:2])\n",
    "print (list1[::])\n",
    "print (list1[::-3])"
   ]
  },
  {
   "cell_type": "code",
   "execution_count": 83,
   "metadata": {},
   "outputs": [
    {
     "name": "stdout",
     "output_type": "stream",
     "text": [
      "[1, 3, 'xyz', 'insert me here', 10, 11]\n"
     ]
    },
    {
     "data": {
      "text/plain": [
       "1"
      ]
     },
     "execution_count": 83,
     "metadata": {},
     "output_type": "execute_result"
    }
   ],
   "source": [
    "print (list1)\n",
    "list1.count(10)"
   ]
  },
  {
   "cell_type": "markdown",
   "metadata": {},
   "source": [
    "### Sorting functions"
   ]
  },
  {
   "cell_type": "code",
   "execution_count": 62,
   "metadata": {},
   "outputs": [],
   "source": [
    "a_list = [1,2,3,4,5,20,7,80,0,99]\n",
    "b_list = [1,3,5,\"hi\", \"apple\", \".\", \"?\"] # cannot sort a list with different data\n",
    "c_list = [0.1,3,4.3,8,88] #data with floats and ints\n",
    "d_list = [\"q\",\"r\",\"t\",\"s\",'hi there',\"g\"]"
   ]
  },
  {
   "cell_type": "markdown",
   "metadata": {},
   "source": [
    "```sorted() ``` fuction allows you to sort lists without changing the arrangement of the original list. You can sort ints and floats but not ints and strings"
   ]
  },
  {
   "cell_type": "code",
   "execution_count": 65,
   "metadata": {},
   "outputs": [
    {
     "name": "stdout",
     "output_type": "stream",
     "text": [
      "[0, 1, 2, 3, 4, 5, 7, 20, 80, 99]\n",
      "[0.1, 3, 4.3, 8, 88]\n",
      "['t', 's', 'r', 'q', 'hi there', 'g']\n"
     ]
    }
   ],
   "source": [
    "print(sorted(a_list))# sorts list from lowest to highest value\n",
    "#print(sorted(b_list))# outputs TypeError: '<' not supported between instances of 'str' and 'int'\n",
    "print(sorted(c_list))# sorts list from lowest to highest value\n",
    "print(sorted(d_list, reverse=True))"
   ]
  },
  {
   "cell_type": "markdown",
   "metadata": {},
   "source": [
    "`sort()` fucntion is used to sort the elements in the original list. "
   ]
  },
  {
   "cell_type": "code",
   "execution_count": 70,
   "metadata": {},
   "outputs": [
    {
     "name": "stdout",
     "output_type": "stream",
     "text": [
      "original list = [0, 1, 2, 3, 4, 5, 7, 20, 80, 99]\n",
      "new sorted list = [0, 1, 2, 3, 4, 5, 7, 20, 80, 99]\n",
      "reversed sorted list = [99, 80, 20, 7, 5, 4, 3, 2, 1, 0]\n"
     ]
    }
   ],
   "source": [
    "print (\"original list =\" , a_list)\n",
    "a_list.sort()\n",
    "print (\"new sorted list =\" , a_list)\n",
    "a_list.sort(reverse=True)\n",
    "print (\"reversed sorted list =\" , a_list)"
   ]
  },
  {
   "cell_type": "code",
   "execution_count": 69,
   "metadata": {},
   "outputs": [
    {
     "name": "stdout",
     "output_type": "stream",
     "text": [
      "[0, 1, 2, 3, 4, 5, 7, 20, 80, 99]\n"
     ]
    }
   ],
   "source": [
    "a_list.sort()\n",
    "print (a_list)"
   ]
  },
  {
   "cell_type": "markdown",
   "metadata": {},
   "source": [
    "### Counting\n",
    "`.count()` can also be used to count how many times a specific element has been repeated in the list"
   ]
  },
  {
   "cell_type": "code",
   "execution_count": 87,
   "metadata": {},
   "outputs": [
    {
     "name": "stdout",
     "output_type": "stream",
     "text": [
      "sorted list = [0, 0, 2, 3, 3, 4, 5, 5, 6, 6, 6, 7, 8, 8, 9]\n",
      "0 is repeated =  2 times\n",
      "6 is repeated =  3 times\n"
     ]
    }
   ],
   "source": [
    "z_list = [0,4,6,8,7,8,0,9,5,3,2,3,5,6,6]\n",
    "print(\"sorted list =\",sorted(z_list))\n",
    "\n",
    "print (\"0 is repeated = \" , z_list.count(0), \"times\")\n",
    "print (\"6 is repeated = \" , z_list.count(6), \"times\")"
   ]
  },
  {
   "cell_type": "markdown",
   "metadata": {},
   "source": [
    "###  TUPLE\n",
    "Tuples are same as lists except they are enclosed by `( )` . The are immutable, meaning they cannot be changed. \n"
   ]
  },
  {
   "cell_type": "code",
   "execution_count": 101,
   "metadata": {},
   "outputs": [
    {
     "name": "stdout",
     "output_type": "stream",
     "text": [
      "tuple1 =  (1, 2, 3)\n"
     ]
    }
   ],
   "source": [
    "tuple1 = (1,2,3); print (\"tuple1 = \",tuple1)"
   ]
  },
  {
   "cell_type": "markdown",
   "metadata": {},
   "source": [
    "### Adding to a tuple\n",
    "To add to a tuple you can concatenate. For example\n",
    "```python\n",
    "tuple1 = tuple1 + (4,5,6)\n",
    "```"
   ]
  },
  {
   "cell_type": "code",
   "execution_count": 102,
   "metadata": {},
   "outputs": [
    {
     "name": "stdout",
     "output_type": "stream",
     "text": [
      "tuple1 =  (1, 2, 3, 4, 5, 6)\n"
     ]
    }
   ],
   "source": [
    "tuple1 = tuple1 + (4,5,6) ;print (\"tuple1 = \", tuple1)"
   ]
  },
  {
   "cell_type": "markdown",
   "metadata": {},
   "source": [
    "Changing data in tuples in not allowed unlike lists\n",
    "```python \n",
    "In [] tuple1[1]=(3) \n",
    "\n",
    "    TypeError: 'tuple' object does not support item assignment\n",
    "```"
   ]
  },
  {
   "cell_type": "code",
   "execution_count": 105,
   "metadata": {},
   "outputs": [
    {
     "name": "stdout",
     "output_type": "stream",
     "text": [
      "list1 =  [1, 200, 'xyz', 'insert me here', 10, 11]\n",
      "changed list1 = [1, 200, 'xyz', 'insert me here', 10, 11]\n"
     ]
    }
   ],
   "source": [
    "print (\"list1 = \",list1)\n",
    "list1[1] = 200;print (\"changed list1 =\",list1)"
   ]
  },
  {
   "cell_type": "markdown",
   "metadata": {},
   "source": [
    "### DICTIONARYS\n",
    "Dictionaries are indicated using the `{ }`.  These are mutable data structures that hold key-value pairs. \n",
    "\n",
    "Key examples: First Name, Fruit, Money\n",
    "Value example: Twum, Orange, 14.00"
   ]
  },
  {
   "cell_type": "code",
   "execution_count": 122,
   "metadata": {},
   "outputs": [
    {
     "name": "stdout",
     "output_type": "stream",
     "text": [
      "{0: 'fruit', 1: 'Java', 2: 'car'}\n"
     ]
    }
   ],
   "source": [
    "dict1 = {0: 'fruit', 1:'Java', 2: 'car' } ;print (dict1)"
   ]
  },
  {
   "cell_type": "markdown",
   "metadata": {},
   "source": [
    "Some basic functions in dictionaries include `del(), .pop(), .popitem(), .keys(), .values() and .items()`"
   ]
  },
  {
   "cell_type": "code",
   "execution_count": 123,
   "metadata": {},
   "outputs": [
    {
     "name": "stdout",
     "output_type": "stream",
     "text": [
      "{0: 'fruit', 1: 'Python', 2: 'car'}\n"
     ]
    }
   ],
   "source": [
    "# changing a key\n",
    "dict1[1] = 'Python';print (dict1)"
   ]
  },
  {
   "cell_type": "code",
   "execution_count": 124,
   "metadata": {},
   "outputs": [
    {
     "name": "stdout",
     "output_type": "stream",
     "text": [
      "{0: 'fruit', 1: 'Python', 2: 'car', 3: 'Furniture'}\n"
     ]
    }
   ],
   "source": [
    "#adding values in dictionary\n",
    "dict1[3] = 'Furniture';print (dict1)"
   ]
  },
  {
   "cell_type": "code",
   "execution_count": 125,
   "metadata": {},
   "outputs": [
    {
     "name": "stdout",
     "output_type": "stream",
     "text": [
      "{0: 'fruit', 2: 'car', 3: 'Furniture'}\n"
     ]
    }
   ],
   "source": [
    "# deleting value in dictionary\n",
    "del dict1[1] ;print (dict1)"
   ]
  },
  {
   "cell_type": "code",
   "execution_count": 126,
   "metadata": {},
   "outputs": [
    {
     "name": "stdout",
     "output_type": "stream",
     "text": [
      "fruit\n",
      "{2: 'car', 3: 'Furniture'}\n"
     ]
    }
   ],
   "source": [
    "#deleting using pop()\n",
    "print (dict1.pop(0));print (dict1)\n"
   ]
  },
  {
   "cell_type": "code",
   "execution_count": 127,
   "metadata": {},
   "outputs": [
    {
     "data": {
      "text/plain": [
       "(3, 'Furniture')"
      ]
     },
     "execution_count": 127,
     "metadata": {},
     "output_type": "execute_result"
    }
   ],
   "source": [
    "dict1.popitem() # removes the last key from the dictionary\n",
    "#does not take values in parenthesis"
   ]
  },
  {
   "cell_type": "code",
   "execution_count": 129,
   "metadata": {},
   "outputs": [
    {
     "name": "stdout",
     "output_type": "stream",
     "text": [
      "{2: 'car'}\n"
     ]
    }
   ],
   "source": [
    "print (dict1)"
   ]
  },
  {
   "cell_type": "code",
   "execution_count": 133,
   "metadata": {},
   "outputs": [
    {
     "name": "stdout",
     "output_type": "stream",
     "text": [
      "dict_keys([2])\n",
      "dict_values(['car'])\n",
      "dict_items([(2, 'car')])\n"
     ]
    }
   ],
   "source": [
    "print(dict1.keys())\n",
    "print(dict1.values())\n",
    "print(dict1.items())"
   ]
  },
  {
   "cell_type": "code",
   "execution_count": null,
   "metadata": {},
   "outputs": [],
   "source": []
  }
 ],
 "metadata": {
  "kernelspec": {
   "display_name": "Python 3",
   "language": "python",
   "name": "python3"
  },
  "language_info": {
   "codemirror_mode": {
    "name": "ipython",
    "version": 3
   },
   "file_extension": ".py",
   "mimetype": "text/x-python",
   "name": "python",
   "nbconvert_exporter": "python",
   "pygments_lexer": "ipython3",
   "version": "3.7.6"
  }
 },
 "nbformat": 4,
 "nbformat_minor": 4
}
