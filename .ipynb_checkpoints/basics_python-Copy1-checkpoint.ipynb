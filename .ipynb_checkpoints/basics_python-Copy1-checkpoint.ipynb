{
 "cells": [
  {
   "cell_type": "markdown",
   "metadata": {},
   "source": [
    "# Data Structures \n",
    "Data structures are used to store organize and manage data. \n",
    "\n",
    "Types of Data Structures:\n",
    "\n",
    "* Built-in Data Structures\n",
    "    * List\n",
    "    * Dictionary\n",
    "    * Tuple\n",
    "    * Sets\n",
    "\n",
    "* User-Defined Data Structures\n",
    "    * Stack \n",
    "    * Queue\n",
    "    * Tree\n",
    "    * LinkedList\n",
    "    * Graph\n",
    "    * HashMap\n",
    "    \n",
    " https://www.youtube.com/watch?v=m9n2f9lhtrw"
   ]
  },
  {
   "cell_type": "markdown",
   "metadata": {},
   "source": [
    "### LISTS\n",
    "* Lists can contain different data types and are used to store data ins sequential manner. They are muttable so can be changed."
   ]
  },
  {
   "cell_type": "code",
   "execution_count": 24,
   "metadata": {},
   "outputs": [
    {
     "name": "stdout",
     "output_type": "stream",
     "text": [
      "[1, 2, 3, 'xyz', 'hi']\n"
     ]
    }
   ],
   "source": [
    "#create a list\n",
    "list1 = [1,2,3,'xyz','hi']\n",
    "print(list1)"
   ]
  },
  {
   "cell_type": "markdown",
   "metadata": {},
   "source": [
    "To add data elements in to the list you can use the following functions;\n",
    "```python\n",
    "append() extend() and insert()\n",
    "```"
   ]
  },
  {
   "cell_type": "markdown",
   "metadata": {},
   "source": [
    "### Adding elements using append( ), extend( ) and insert( )"
   ]
  },
  {
   "cell_type": "code",
   "execution_count": 25,
   "metadata": {},
   "outputs": [
    {
     "name": "stdout",
     "output_type": "stream",
     "text": [
      "[1, 2, 3, 'xyz', 'hi', 20]\n"
     ]
    }
   ],
   "source": [
    "list1.append(20) #add 20 to list\n",
    "print(list1)"
   ]
  },
  {
   "cell_type": "code",
   "execution_count": 26,
   "metadata": {},
   "outputs": [
    {
     "name": "stdout",
     "output_type": "stream",
     "text": [
      "[1, 2, 3, 'xyz', 'hi', 20, (10, 11)]\n",
      "new elements (10,11) are added as a tuple\n"
     ]
    }
   ],
   "source": [
    "list1.append((10,11)) #add two elements to list\n",
    "print(list1) \n",
    "print ('new elements (10,11) are added as a tuple')"
   ]
  },
  {
   "cell_type": "code",
   "execution_count": 27,
   "metadata": {},
   "outputs": [
    {
     "name": "stdout",
     "output_type": "stream",
     "text": [
      "[1, 2, 3, 'xyz', 'hi', 20, (10, 11), 10, 11]\n"
     ]
    }
   ],
   "source": [
    "list1.extend((10,11)) #add two elements to list\n",
    "print(list1) \n",
    "# print ('new elements (10,11) are added as a elements not tuple')"
   ]
  },
  {
   "cell_type": "code",
   "execution_count": 28,
   "metadata": {},
   "outputs": [
    {
     "name": "stdout",
     "output_type": "stream",
     "text": [
      "[1, 2, 'insert me here', 3, 'xyz', 'hi', 20, (10, 11), 10, 11]\n"
     ]
    }
   ],
   "source": [
    "list1.insert(2,'insert me here') #insert new element to list\n",
    "print(list1) \n",
    "# print ('identify the index and insert element next')"
   ]
  },
  {
   "cell_type": "code",
   "execution_count": 29,
   "metadata": {},
   "outputs": [
    {
     "name": "stdout",
     "output_type": "stream",
     "text": [
      "[1, 2, 'insert me here', 3, 'xyz', 'hi', 20, (10, 11), 'insert me here', 10, 11]\n"
     ]
    }
   ],
   "source": [
    "list1.insert(-2,'insert me here') #insert new element to list \n",
    "print(list1) \n",
    "# print ('identify the index and insert element next')"
   ]
  },
  {
   "cell_type": "markdown",
   "metadata": {},
   "source": [
    "### Removing elements using del( ), pop( ) and remove( ) \n",
    "\n",
    "The functions\n",
    "```python\n",
    "del(), .pop() and  .remove()\n",
    "```\n",
    "allow you to remove elements from the list by identifying their index values or the specific elements themselves. you are also able to save them as a variable while removing them from the list as well. "
   ]
  },
  {
   "cell_type": "code",
   "execution_count": 31,
   "metadata": {},
   "outputs": [
    {
     "name": "stdout",
     "output_type": "stream",
     "text": [
      "[1, 2, 3, 'xyz', 'hi', 20, (10, 11), 'insert me here', 10, 11]\n"
     ]
    }
   ],
   "source": [
    "del list1[2]# delete element identified by the index 2\n",
    "print (list1)"
   ]
  },
  {
   "cell_type": "code",
   "execution_count": 34,
   "metadata": {},
   "outputs": [
    {
     "name": "stdout",
     "output_type": "stream",
     "text": [
      "20\n",
      "[1, 2, 3, 'xyz', (10, 11), 'insert me here', 10, 11]\n"
     ]
    }
   ],
   "source": [
    "a = list1.pop(4) #assigns a the value of element \n",
    "# and susequently removes it from list\n",
    "\n",
    "print(a) ; print( list1)"
   ]
  },
  {
   "cell_type": "code",
   "execution_count": 38,
   "metadata": {},
   "outputs": [
    {
     "name": "stdout",
     "output_type": "stream",
     "text": [
      "[1, 3, 'xyz', 'insert me here', 10, 11]\n"
     ]
    }
   ],
   "source": [
    "list1.remove(2) #find and removes the element itself  \n",
    "list1.remove((10,11))\n",
    "print (list1)"
   ]
  },
  {
   "cell_type": "markdown",
   "metadata": {},
   "source": [
    "### Accessing elements using indexing\n",
    "when accessing specific elements you can give a range using \n",
    "```python\n",
    "[ from_index : to_index :skip_index]\n",
    "\n",
    "```\n",
    "Not specififying values [ : ]means you want the range beginning from very first element and/or to very last element.\n",
    "\n",
    "if you have a list \n",
    "```python\n",
    "#        0, 1, 2, 3, 4, 5\n",
    "alist = [ a, b, c, d, e, f]\n",
    "#       -6,-5,-4,-3,-2,-1  index in reverse\n",
    "\n",
    "```\n",
    "you can also use `.index(element)` to know the index of a particluar element in the list. \n",
    "\n"
   ]
  },
  {
   "cell_type": "code",
   "execution_count": 78,
   "metadata": {},
   "outputs": [
    {
     "name": "stdout",
     "output_type": "stream",
     "text": [
      "[1, 3, 'xyz', 'insert me here', 10, 11]\n",
      "1 is the index of element 3\n",
      "2 is the index of element xyz\n"
     ]
    }
   ],
   "source": [
    "print (list1)\n",
    "print(list1.index(3), \"is the index of element 3\")\n",
    "print(list1.index('xyz'), \"is the index of element xyz\")"
   ]
  },
  {
   "cell_type": "code",
   "execution_count": 42,
   "metadata": {},
   "outputs": [
    {
     "name": "stdout",
     "output_type": "stream",
     "text": [
      "[1, 3, 'xyz', 'insert me here']\n",
      "[1, 'xyz']\n",
      "[1, 3, 'xyz', 'insert me here', 10, 11]\n",
      "[11, 'xyz']\n"
     ]
    }
   ],
   "source": [
    "print (list1[0:4]) \n",
    "print (list1[0:4:2])\n",
    "print (list1[::])\n",
    "print (list1[::-3])"
   ]
  },
  {
   "cell_type": "code",
   "execution_count": 47,
   "metadata": {},
   "outputs": [
    {
     "name": "stdout",
     "output_type": "stream",
     "text": [
      "[1, 3, 'xyz', 'insert me here']\n",
      "[1, 'xyz']\n",
      "[1, 3, 'xyz', 'insert me here', 10, 11]\n",
      "[11, 'xyz']\n"
     ]
    }
   ],
   "source": [
    "print (list1[-6:-2]) \n",
    "print (list1[-6:4:2])\n",
    "print (list1[::])\n",
    "print (list1[::-3])"
   ]
  },
  {
   "cell_type": "code",
   "execution_count": 83,
   "metadata": {},
   "outputs": [
    {
     "name": "stdout",
     "output_type": "stream",
     "text": [
      "[1, 3, 'xyz', 'insert me here', 10, 11]\n"
     ]
    },
    {
     "data": {
      "text/plain": [
       "1"
      ]
     },
     "execution_count": 83,
     "metadata": {},
     "output_type": "execute_result"
    }
   ],
   "source": [
    "print (list1)\n",
    "list1.count(10)"
   ]
  },
  {
   "cell_type": "markdown",
   "metadata": {},
   "source": [
    "### Sorting functions"
   ]
  },
  {
   "cell_type": "code",
   "execution_count": 62,
   "metadata": {},
   "outputs": [],
   "source": [
    "a_list = [1,2,3,4,5,20,7,80,0,99]\n",
    "b_list = [1,3,5,\"hi\", \"apple\", \".\", \"?\"] # cannot sort a list with different data\n",
    "c_list = [0.1,3,4.3,8,88] #data with floats and ints\n",
    "d_list = [\"q\",\"r\",\"t\",\"s\",'hi there',\"g\"]"
   ]
  },
  {
   "cell_type": "markdown",
   "metadata": {},
   "source": [
    "```sorted() ``` fuction allows you to sort lists without changing the arrangement of the original list. You can sort ints and floats but not ints and strings"
   ]
  },
  {
   "cell_type": "code",
   "execution_count": 65,
   "metadata": {},
   "outputs": [
    {
     "name": "stdout",
     "output_type": "stream",
     "text": [
      "[0, 1, 2, 3, 4, 5, 7, 20, 80, 99]\n",
      "[0.1, 3, 4.3, 8, 88]\n",
      "['t', 's', 'r', 'q', 'hi there', 'g']\n"
     ]
    }
   ],
   "source": [
    "print(sorted(a_list))# sorts list from lowest to highest value\n",
    "#print(sorted(b_list))# outputs TypeError: '<' not supported between instances of 'str' and 'int'\n",
    "print(sorted(c_list))# sorts list from lowest to highest value\n",
    "print(sorted(d_list, reverse=True))"
   ]
  },
  {
   "cell_type": "markdown",
   "metadata": {},
   "source": [
    "`sort()` fucntion is used to sort the elements in the original list. "
   ]
  },
  {
   "cell_type": "code",
   "execution_count": 70,
   "metadata": {},
   "outputs": [
    {
     "name": "stdout",
     "output_type": "stream",
     "text": [
      "original list = [0, 1, 2, 3, 4, 5, 7, 20, 80, 99]\n",
      "new sorted list = [0, 1, 2, 3, 4, 5, 7, 20, 80, 99]\n",
      "reversed sorted list = [99, 80, 20, 7, 5, 4, 3, 2, 1, 0]\n"
     ]
    }
   ],
   "source": [
    "print (\"original list =\" , a_list)\n",
    "a_list.sort()\n",
    "print (\"new sorted list =\" , a_list)\n",
    "a_list.sort(reverse=True)\n",
    "print (\"reversed sorted list =\" , a_list)"
   ]
  },
  {
   "cell_type": "code",
   "execution_count": 69,
   "metadata": {},
   "outputs": [
    {
     "name": "stdout",
     "output_type": "stream",
     "text": [
      "[0, 1, 2, 3, 4, 5, 7, 20, 80, 99]\n"
     ]
    }
   ],
   "source": [
    "a_list.sort()\n",
    "print (a_list)"
   ]
  },
  {
   "cell_type": "markdown",
   "metadata": {},
   "source": [
    "### Counting\n",
    "`.count()` can also be used to count how many times a specific element has been repeated in the list"
   ]
  },
  {
   "cell_type": "code",
   "execution_count": 87,
   "metadata": {},
   "outputs": [
    {
     "name": "stdout",
     "output_type": "stream",
     "text": [
      "sorted list = [0, 0, 2, 3, 3, 4, 5, 5, 6, 6, 6, 7, 8, 8, 9]\n",
      "0 is repeated =  2 times\n",
      "6 is repeated =  3 times\n"
     ]
    }
   ],
   "source": [
    "z_list = [0,4,6,8,7,8,0,9,5,3,2,3,5,6,6]\n",
    "print(\"sorted list =\",sorted(z_list))\n",
    "\n",
    "print (\"0 is repeated = \" , z_list.count(0), \"times\")\n",
    "print (\"6 is repeated = \" , z_list.count(6), \"times\")"
   ]
  },
  {
   "cell_type": "markdown",
   "metadata": {},
   "source": [
    "###  TUPLES\n",
    "Tuples are same as lists except they are enclosed by `( )` . The are immutable, meaning they cannot be changed. \n"
   ]
  },
  {
   "cell_type": "code",
   "execution_count": 101,
   "metadata": {},
   "outputs": [
    {
     "name": "stdout",
     "output_type": "stream",
     "text": [
      "tuple1 =  (1, 2, 3)\n"
     ]
    }
   ],
   "source": [
    "tuple1 = (1,2,3); print (\"tuple1 = \",tuple1)"
   ]
  },
  {
   "cell_type": "markdown",
   "metadata": {},
   "source": [
    "### Adding to a tuple\n",
    "To add to a tuple you can concatenate. For example\n",
    "```python\n",
    "tuple1 = tuple1 + (4,5,6)\n",
    "```"
   ]
  },
  {
   "cell_type": "code",
   "execution_count": 102,
   "metadata": {},
   "outputs": [
    {
     "name": "stdout",
     "output_type": "stream",
     "text": [
      "tuple1 =  (1, 2, 3, 4, 5, 6)\n"
     ]
    }
   ],
   "source": [
    "tuple1 = tuple1 + (4,5,6) ;print (\"tuple1 = \", tuple1)"
   ]
  },
  {
   "cell_type": "markdown",
   "metadata": {},
   "source": [
    "Changing data in tuples in not allowed unlike lists\n",
    "```python \n",
    "In [] tuple1[1]=(3) \n",
    "\n",
    "    TypeError: 'tuple' object does not support item assignment\n",
    "```"
   ]
  },
  {
   "cell_type": "code",
   "execution_count": 105,
   "metadata": {},
   "outputs": [
    {
     "name": "stdout",
     "output_type": "stream",
     "text": [
      "list1 =  [1, 200, 'xyz', 'insert me here', 10, 11]\n",
      "changed list1 = [1, 200, 'xyz', 'insert me here', 10, 11]\n"
     ]
    }
   ],
   "source": [
    "print (\"list1 = \",list1)\n",
    "list1[1] = 200;print (\"changed list1 =\",list1)"
   ]
  },
  {
   "cell_type": "code",
   "execution_count": 139,
   "metadata": {},
   "outputs": [
    {
     "data": {
      "text/plain": [
       "0"
      ]
     },
     "execution_count": 139,
     "metadata": {},
     "output_type": "execute_result"
    }
   ],
   "source": [
    "tuple1.count(1)\n",
    "tuple1.index(1)"
   ]
  },
  {
   "cell_type": "markdown",
   "metadata": {},
   "source": [
    "### DICTIONARIES\n",
    "Dictionaries are indicated using the `{ }`.  These are mutable data structures that hold key-value pairs. \n",
    "\n",
    "Key examples: First Name, Fruit, Money\n",
    "Value example: Twum, Orange, 14.00"
   ]
  },
  {
   "cell_type": "code",
   "execution_count": 122,
   "metadata": {},
   "outputs": [
    {
     "name": "stdout",
     "output_type": "stream",
     "text": [
      "{0: 'fruit', 1: 'Java', 2: 'car'}\n"
     ]
    }
   ],
   "source": [
    "dict1 = {0: 'fruit', 1:'Java', 2: 'car' } ;print (dict1)"
   ]
  },
  {
   "cell_type": "markdown",
   "metadata": {},
   "source": [
    "Some basic functions in dictionaries include `del(), .pop(), .popitem(), .keys(), .values() and .items()`"
   ]
  },
  {
   "cell_type": "code",
   "execution_count": 123,
   "metadata": {},
   "outputs": [
    {
     "name": "stdout",
     "output_type": "stream",
     "text": [
      "{0: 'fruit', 1: 'Python', 2: 'car'}\n"
     ]
    }
   ],
   "source": [
    "# changing a key\n",
    "dict1[1] = 'Python';print (dict1)"
   ]
  },
  {
   "cell_type": "code",
   "execution_count": 124,
   "metadata": {},
   "outputs": [
    {
     "name": "stdout",
     "output_type": "stream",
     "text": [
      "{0: 'fruit', 1: 'Python', 2: 'car', 3: 'Furniture'}\n"
     ]
    }
   ],
   "source": [
    "#adding values in dictionary\n",
    "dict1[3] = 'Furniture';print (dict1)"
   ]
  },
  {
   "cell_type": "code",
   "execution_count": 125,
   "metadata": {},
   "outputs": [
    {
     "name": "stdout",
     "output_type": "stream",
     "text": [
      "{0: 'fruit', 2: 'car', 3: 'Furniture'}\n"
     ]
    }
   ],
   "source": [
    "# deleting value in dictionary\n",
    "del dict1[1] ;print (dict1)"
   ]
  },
  {
   "cell_type": "code",
   "execution_count": 126,
   "metadata": {},
   "outputs": [
    {
     "name": "stdout",
     "output_type": "stream",
     "text": [
      "fruit\n",
      "{2: 'car', 3: 'Furniture'}\n"
     ]
    }
   ],
   "source": [
    "#deleting using pop()\n",
    "print (dict1.pop(0));print (dict1)\n"
   ]
  },
  {
   "cell_type": "code",
   "execution_count": 127,
   "metadata": {},
   "outputs": [
    {
     "data": {
      "text/plain": [
       "(3, 'Furniture')"
      ]
     },
     "execution_count": 127,
     "metadata": {},
     "output_type": "execute_result"
    }
   ],
   "source": [
    "dict1.popitem() # removes the last key from the dictionary\n",
    "#does not take values in parenthesis"
   ]
  },
  {
   "cell_type": "code",
   "execution_count": 129,
   "metadata": {},
   "outputs": [
    {
     "name": "stdout",
     "output_type": "stream",
     "text": [
      "{2: 'car'}\n"
     ]
    }
   ],
   "source": [
    "print (dict1)"
   ]
  },
  {
   "cell_type": "code",
   "execution_count": 133,
   "metadata": {},
   "outputs": [
    {
     "name": "stdout",
     "output_type": "stream",
     "text": [
      "dict_keys([2])\n",
      "dict_values(['car'])\n",
      "dict_items([(2, 'car')])\n"
     ]
    }
   ],
   "source": [
    "print(dict1.keys())\n",
    "print(dict1.values())\n",
    "print(dict1.items())"
   ]
  },
  {
   "cell_type": "markdown",
   "metadata": {},
   "source": [
    "### SETS\n",
    "Sets are used to store multiple items in a single variable.\n",
    "They are unordered and unindexed and are written in between `{ }`. They cannot be changed and do not allow duplicate values.\n",
    "\n",
    "Unordered means that the items in a set do not have a defined order.\n",
    "Set items can appear in a different order every time you use them, and cannot be referred to by index or key.\n",
    "\n",
    "Sets are unchangeable, meaning that we cannot change the items after the set has been created. Once a set is created, you cannot change its items, but you can add new items.\n",
    "\n",
    "#### Using `.add( ), .union( ), .intersection( ), difference( ) and symmetric_difference( )`\n",
    "\n"
   ]
  },
  {
   "cell_type": "code",
   "execution_count": 147,
   "metadata": {},
   "outputs": [
    {
     "name": "stdout",
     "output_type": "stream",
     "text": [
      "{'a', 'e', 'c', 'd', 'b', 'f'}\n",
      "{'a', 'e', 'c', 'g', 'd', 'b', 'f'}\n"
     ]
    }
   ],
   "source": [
    "set1 = {\"a\",\"b\",\"c\",\"d\",\"e\",\"f\"} ;print (set1)\n",
    "set1.add(\"g\")#add element to set \n",
    "print (set1)"
   ]
  },
  {
   "cell_type": "code",
   "execution_count": 151,
   "metadata": {},
   "outputs": [
    {
     "name": "stdout",
     "output_type": "stream",
     "text": [
      "{'a', 3, 4, 5, 'e', 'c', 'g', 'd', 'b', 'f'}\n",
      "{'e', 'c', 'b', 'f'}\n",
      "{'g', 'a', 'd'}\n",
      "{3, 4, 5, 'e', 'c', 'b', 'f'}\n"
     ]
    }
   ],
   "source": [
    "set2 = {3,4,5,\"a\",\"g\", \"d\"}#second set\n",
    "print(set1.union(set2))#output = combined set\n",
    "print(set1.difference(set2))#output = set1 that in not in set 2\n",
    "print(set1.intersection(set2))#output= what is in both sets\n",
    "print(set1.symmetric_difference(set2))#output = what is not in either sets"
   ]
  },
  {
   "cell_type": "markdown",
   "metadata": {},
   "source": [
    "### USER DEFINED DATA STRUCTURES\n",
    "\n",
    "Arrays are like lists but can only be used to store data of just one type. Indexing can be used in arrays to access data embedded within them. They are often needed to be imported using Numpy."
   ]
  },
  {
   "cell_type": "code",
   "execution_count": 1,
   "metadata": {},
   "outputs": [],
   "source": [
    "import array as arr #import package"
   ]
  },
  {
   "cell_type": "code",
   "execution_count": null,
   "metadata": {},
   "outputs": [
    {
     "name": "stdout",
     "output_type": "stream",
     "text": [
      "1. Print Array\n",
      "2. Add an Element\n",
      "3. Delete Last Element\n",
      "4. Exit\n",
      "Enter your choice:1\n",
      "The array elements are:\n",
      "array('i', [1, 2, 3, 4, 5])\n",
      "1\n",
      "2\n",
      "3\n",
      "4\n",
      "5\n",
      "1. Print Array\n",
      "2. Add an Element\n",
      "3. Delete Last Element\n",
      "4. Exit\n"
     ]
    }
   ],
   "source": [
    "a = arr.array('i',[1,2,3,4,5])\n",
    "while True:\n",
    "    print('1. Print Array')\n",
    "    print('2. Add an Element')\n",
    "    print('3. Delete Last Element')\n",
    "    print('4. Exit')\n",
    "    \n",
    "    choice = int(input('Enter your choice:'))\n",
    "    if choice == 1: # Print Array\n",
    "        print('The array elements are:')\n",
    "        print (a)\n",
    "        for numbers in a:\n",
    "            print(numbers)\n",
    "    elif choice == 2:#Add Elements\n",
    "        val = int(input('please enter the integer number'))\n",
    "        if isinstance(val,int):\n",
    "            a.append(val)\n",
    "    elif choice == 3:#Delete Elements\n",
    "        value = a.pop()\n",
    "        print('the value deleted was:', value)\n",
    "    elif choice == 4:#Exit\n",
    "        break\n",
    "    else:\n",
    "        print('Enter valid choice.')\n"
   ]
  },
  {
   "cell_type": "markdown",
   "metadata": {},
   "source": [
    "### STACKS\n",
    "Stacks are made form arrays and follow the Last-In-First-Out (LIFO) or First-In/Last-Out principle. They are linear data structures.  \n",
    "\n",
    "`push()` is used to add to the stack\n",
    "`top()` points to the top/last added value in the stack\n",
    "`pop()` removes last element or top element"
   ]
  },
  {
   "cell_type": "markdown",
   "metadata": {},
   "source": [
    "### QUEUES\n",
    "Queues are like stacks and are also linear data structures. The items are stored based on the First-In-First-Out priciple. They can be implemented using lists, collection.deque and queue.Queue.\n",
    "\n",
    "### Implementing using lists\n",
    "* `pop()`is used instead of dequeue() to remove least recently added element and\n",
    "* `append()` is used instead of enqueue() to  add elements to tail end of queue\n"
   ]
  },
  {
   "cell_type": "markdown",
   "metadata": {},
   "source": [
    "### Implementing using collections.deque\n",
    "* `popleft()`is used instead of dequeue( ) to remove least recently added element and\n",
    "* `append()` is used instead of enqueue( ) to  add elements to tail end of queue\n"
   ]
  },
  {
   "cell_type": "markdown",
   "metadata": {},
   "source": [
    "### Implementing using queue.Queue(maxsize)\n",
    "A maxsize of 0 means an infinite queue\n",
    "\n",
    "* `maxsize` – Number of items allowed in the queue.\n",
    "* `empty()` – Return True if the queue is empty, False otherwise.\n",
    "* `full()` – Return True if there are maxsize items in the queue. If the queue was initialized with maxsize=0 (the default), then full() never returns True.\n",
    "* `get()` – Remove and return an item from the queue. If queue is empty, wait until an item is available.\n",
    "* `get_nowait()` – Return an item if one is immediately available, else raise QueueEmpty.\n",
    "* `put(item)` – Put an item into the queue. If the queue is full, wait until a free slot is available before adding the item.\n",
    "* `put_nowait(item)` – Put an item into the queue without blocking. If no free slot is immediately available, raise QueueFull.\n",
    "* `qsize()` – Return the number of items in the queue.\n",
    "\n"
   ]
  },
  {
   "cell_type": "code",
   "execution_count": 177,
   "metadata": {},
   "outputs": [
    {
     "name": "stdout",
     "output_type": "stream",
     "text": [
      "is S full? False\n",
      "is S empty? True\n"
     ]
    }
   ],
   "source": [
    "import queue\n",
    "S = queue.Queue(maxsize = 10)#create s queue with limit of 10\n",
    "print ('is S full?',S.full());print ('is S empty?',S.empty())"
   ]
  },
  {
   "cell_type": "code",
   "execution_count": 179,
   "metadata": {},
   "outputs": [
    {
     "name": "stdout",
     "output_type": "stream",
     "text": [
      "Values added using put()\n",
      "using get() removes 5\n",
      "is S empty? False\n",
      "using get() removes 7\n",
      "is S empty? False\n",
      "using get() removes 52\n",
      "is S empty? True\n"
     ]
    }
   ],
   "source": [
    "S.put(5);S.put(7);S.put(52); #Put() inserts data to tal end of S\n",
    "print('Values added using put()')\n",
    "\n",
    "print('using get() removes',S.get());print ('is S empty?',S.empty())\n",
    "print('using get() removes',S.get());print ('is S empty?',S.empty())\n",
    "print('using get() removes',S.get());print ('is S empty?',S.empty())"
   ]
  },
  {
   "cell_type": "markdown",
   "metadata": {},
   "source": [
    "### Implementing using queue.Queue(maxsize)\n",
    "PriorityQueue is like a queue, however priority can be given to elements\n",
    "* An element with high priority is dequeued before an element with low priority.\n",
    "* If two elements have the same priority, they are served according to their order in the queue.\n"
   ]
  },
  {
   "cell_type": "code",
   "execution_count": 185,
   "metadata": {},
   "outputs": [
    {
     "name": "stdout",
     "output_type": "stream",
     "text": [
      "Elements in before Q.qsize()= 4\n",
      "(1, 's')\n",
      "(2, 'g')\n",
      "Elements in queue now 2\n"
     ]
    }
   ],
   "source": [
    "from queue import PriorityQueue\n",
    "Q = PriorityQueue() #create queue\n",
    "Q.put((2, 'g'));Q.put((3, 'e'));Q.put((4, 'k'));Q.put((1, 's'))\n",
    "\n",
    "#remove and return lowest priority element\n",
    "print('Elements in before Q.qsize()=',Q.qsize())\n",
    "print(Q.get()) #remove first lowest priority\n",
    "print(Q.get()) #remove second lowest priority\n",
    "print('Elements in queue now',Q.qsize())"
   ]
  },
  {
   "cell_type": "code",
   "execution_count": null,
   "metadata": {},
   "outputs": [],
   "source": []
  },
  {
   "cell_type": "markdown",
   "metadata": {},
   "source": [
    "### TREES"
   ]
  },
  {
   "cell_type": "code",
   "execution_count": 189,
   "metadata": {},
   "outputs": [
    {
     "name": "stdout",
     "output_type": "stream",
     "text": [
      "Humans belong to class mammalia\n",
      "Lizard belong to class reptilia\n",
      "How to use a Jupyter noteboook\n",
      " Step1 : import package\n",
      " Step2 : write up function\n",
      " Step3 : run code\n"
     ]
    }
   ],
   "source": [
    "#simple tree : single root, single node\n",
    "#Dictionary\n",
    "Animalia = {'mammalia':'Humans', 'reptilia':'Lizard'}\n",
    "\n",
    "for classes, organism in Animalia.items():\n",
    "    print(f\"{organism} belong to class {classes}\")\n",
    "    \n",
    "#List\n",
    "Steps = ['import package','write up function','run code']\n",
    "\n",
    "print('How to use a Jupyter noteboook')\n",
    "for step, action in enumerate(Steps):\n",
    "    print(f\" Step{step +1} : {action}\" )"
   ]
  },
  {
   "cell_type": "code",
   "execution_count": 205,
   "metadata": {},
   "outputs": [
    {
     "name": "stdout",
     "output_type": "stream",
     "text": [
      "Humans and Whales belong to class mammalia\n",
      "Lizard and Aligator belong to class reptilia\n",
      "How to use a Jupyter noteboook\n",
      " Step1 : ['import theses packages', 'numpy as np']\n",
      " Step2 : ['write up function', 'def fn:', 'print (hello)']\n",
      " Step3 : ['run code', 'find the run icon above', 'click icon']\n"
     ]
    }
   ],
   "source": [
    "# more complex: single root, many nodes\n",
    "#Dictionary\n",
    "Animalia = {'mammalia':['Humans','Whales'], 'reptilia':['Lizard','Aligator']}\n",
    "\n",
    "for a_class, organisms in Animalia.items():\n",
    "    print(f\"{ ' and '.join([str(organism) for organism in [*organisms]])} belong to class {a_class}\")\n",
    "\n",
    "\n",
    "#List\n",
    "Steps = [['import theses packages', 'numpy as np' ,  ],\n",
    "        ['write up function','def fn:', 'print (hello)'],\n",
    "        ['run code', 'find the run icon above', 'click icon']]\n",
    "\n",
    "print('How to use a Jupyter noteboook')\n",
    "for step, action in enumerate(Steps):\n",
    "    print(f\" Step{step +1} : {action}\" )"
   ]
  },
  {
   "cell_type": "markdown",
   "metadata": {},
   "source": [
    "### LINKED LISTS"
   ]
  },
  {
   "cell_type": "markdown",
   "metadata": {},
   "source": [
    "### GRAPHS"
   ]
  },
  {
   "cell_type": "markdown",
   "metadata": {},
   "source": [
    "### HASH TABLES or HASH MAPS"
   ]
  },
  {
   "cell_type": "code",
   "execution_count": null,
   "metadata": {},
   "outputs": [],
   "source": []
  },
  {
   "cell_type": "code",
   "execution_count": null,
   "metadata": {},
   "outputs": [],
   "source": []
  },
  {
   "cell_type": "code",
   "execution_count": null,
   "metadata": {},
   "outputs": [],
   "source": []
  },
  {
   "cell_type": "code",
   "execution_count": null,
   "metadata": {},
   "outputs": [],
   "source": []
  },
  {
   "cell_type": "code",
   "execution_count": null,
   "metadata": {},
   "outputs": [],
   "source": []
  }
 ],
 "metadata": {
  "kernelspec": {
   "display_name": "Python 3",
   "language": "python",
   "name": "python3"
  },
  "language_info": {
   "codemirror_mode": {
    "name": "ipython",
    "version": 3
   },
   "file_extension": ".py",
   "mimetype": "text/x-python",
   "name": "python",
   "nbconvert_exporter": "python",
   "pygments_lexer": "ipython3",
   "version": "3.7.6"
  }
 },
 "nbformat": 4,
 "nbformat_minor": 4
}
